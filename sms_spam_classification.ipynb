{
  "cells": [
    {
      "cell_type": "markdown",
      "metadata": {
        "id": "view-in-github",
        "colab_type": "text"
      },
      "source": [
        "<a href=\"https://colab.research.google.com/github/FarrazNouval/fcc-machine-learning-projects/blob/main/sms_spam_classification.ipynb\" target=\"_parent\"><img src=\"https://colab.research.google.com/assets/colab-badge.svg\" alt=\"Open In Colab\"/></a>"
      ]
    },
    {
      "cell_type": "code",
      "source": [
        "!pip install nltk\n"
      ],
      "metadata": {
        "id": "Mxz47FCwgn_K"
      },
      "execution_count": null,
      "outputs": []
    },
    {
      "cell_type": "code",
      "execution_count": null,
      "metadata": {
        "id": "8RZOuS9LWQvv"
      },
      "outputs": [],
      "source": [
        "# import libraries\n",
        "try:\n",
        "  # %tensorflow_version only exists in Colab.\n",
        "  !pip install tf-nightly\n",
        "except Exception:\n",
        "  pass\n",
        "import tensorflow as tf\n",
        "import pandas as pd\n",
        "from tensorflow import keras\n",
        "!pip install tensorflow-datasets\n",
        "import tensorflow_datasets as tfds\n",
        "import numpy as np\n",
        "import matplotlib.pyplot as plt\n",
        "\n",
        "print(tf.__version__)"
      ]
    },
    {
      "cell_type": "markdown",
      "source": [
        "# Getting The Data"
      ],
      "metadata": {
        "id": "HyWubAX-BnMM"
      }
    },
    {
      "cell_type": "code",
      "execution_count": null,
      "metadata": {
        "id": "lMHwYXHXCar3"
      },
      "outputs": [],
      "source": [
        "# get data files\n",
        "!wget https://cdn.freecodecamp.org/project-data/sms/train-data.tsv\n",
        "!wget https://cdn.freecodecamp.org/project-data/sms/valid-data.tsv\n",
        "\n",
        "train_file_path = \"train-data.tsv\"\n",
        "test_file_path = \"valid-data.tsv\""
      ]
    },
    {
      "cell_type": "markdown",
      "source": [
        "# Load The Data"
      ],
      "metadata": {
        "id": "ocbxY3C4Bu_3"
      }
    },
    {
      "cell_type": "code",
      "execution_count": 4,
      "metadata": {
        "id": "g_h508FEClxO"
      },
      "outputs": [],
      "source": [
        "train_data = pd.read_csv('train-data.tsv', sep='\\t', names=['label', 'inputs'])\n"
      ]
    },
    {
      "cell_type": "code",
      "source": [
        "test_data = pd.read_csv('valid-data.tsv', sep='\\t', names=['label', 'inputs'])\n"
      ],
      "metadata": {
        "id": "AbOZ3Ll8x_nE"
      },
      "execution_count": 5,
      "outputs": []
    },
    {
      "cell_type": "markdown",
      "source": [
        "# Change Label Into Number Form"
      ],
      "metadata": {
        "id": "vYx7_ZypB4YV"
      }
    },
    {
      "cell_type": "code",
      "execution_count": 6,
      "metadata": {
        "id": "zOMKywn4zReN"
      },
      "outputs": [],
      "source": [
        "train_data['label'] = [1 if i == 'spam' else 0 for i in train_data.label]\n"
      ]
    },
    {
      "cell_type": "code",
      "source": [
        "test_data['label'] = [1 if i == 'spam' else 0 for i in test_data.label]"
      ],
      "metadata": {
        "id": "82SERIq_yOeO"
      },
      "execution_count": 7,
      "outputs": []
    },
    {
      "cell_type": "markdown",
      "source": [
        "# Make Functions To Prepare The Data For Building Model\n",
        "* remove stopwords\n",
        "* remove punctuations\n",
        "* lemmatize every words"
      ],
      "metadata": {
        "id": "YQJDPykoCCVr"
      }
    },
    {
      "cell_type": "code",
      "source": [
        "# preprocesing\n",
        "import nltk\n",
        "nltk.download('stopwords')\n",
        "nltk.download('punkt')\n",
        "nltk.download('wordnet')\n",
        "nltk.download('omw-1.4')\n",
        "from nltk.corpus import stopwords\n",
        "from nltk.stem import WordNetLemmatizer\n",
        "import string\n",
        "\n",
        "sw = stopwords.words('english')\n",
        "punct = set(string.punctuation)\n",
        "lemmatizer = WordNetLemmatizer()\n",
        "\n",
        "# function remove stopwords from the text\n",
        "def remove_sw(text):\n",
        "  no_sw = [word.lower() for word in text.split() if word.lower() not in set(sw)]\n",
        "  no_sw = ' '.join(no_sw)\n",
        "  no_sw = no_sw.strip()\n",
        "\n",
        "  return no_sw\n",
        "\n",
        "# function to remove punctuation from the text\n",
        "def remove_punct(text):\n",
        "  no_punct = ''\n",
        "  for i in text:\n",
        "    if i in punct:\n",
        "      no_punct += ' '\n",
        "    else:\n",
        "      no_punct += i\n",
        "  \n",
        "  return no_punct\n",
        "\n",
        "# function to lemmatize the text\n",
        "def lemmatizing(text):\n",
        "  lemmat = [lemmatizer.lemmatize(word) for word in text.split()]\n",
        "  lemmat = ' '.join(lemmat)\n",
        "  lemmat = lemmat.strip()\n",
        "\n",
        "  return lemmat\n"
      ],
      "metadata": {
        "colab": {
          "base_uri": "https://localhost:8080/"
        },
        "id": "1PZ6MhOGjBnS",
        "outputId": "ef0e5d89-475c-48ec-95da-7b877a2272a5"
      },
      "execution_count": 8,
      "outputs": [
        {
          "output_type": "stream",
          "name": "stderr",
          "text": [
            "[nltk_data] Downloading package stopwords to /root/nltk_data...\n",
            "[nltk_data]   Unzipping corpora/stopwords.zip.\n",
            "[nltk_data] Downloading package punkt to /root/nltk_data...\n",
            "[nltk_data]   Unzipping tokenizers/punkt.zip.\n",
            "[nltk_data] Downloading package wordnet to /root/nltk_data...\n",
            "[nltk_data] Downloading package omw-1.4 to /root/nltk_data...\n"
          ]
        }
      ]
    },
    {
      "cell_type": "markdown",
      "source": [
        "# Apply Functions To The Data And See The Difference"
      ],
      "metadata": {
        "id": "d_yCSd4VCd6h"
      }
    },
    {
      "cell_type": "code",
      "source": [
        "train_data['no_sw'] = train_data.inputs.map(remove_sw)\n",
        "train_data['no_punct'] = train_data.no_sw.map(remove_punct)\n",
        "train_data['lemmatized'] = train_data.no_punct.map(lemmatizing)\n",
        "\n",
        "train_data\n"
      ],
      "metadata": {
        "colab": {
          "base_uri": "https://localhost:8080/",
          "height": 624
        },
        "id": "yY56JpShlahp",
        "outputId": "4ba8d456-cee1-4718-b774-237b8b8bc120"
      },
      "execution_count": 9,
      "outputs": [
        {
          "output_type": "execute_result",
          "data": {
            "text/plain": [
              "      label                                             inputs  \\\n",
              "0         0  ahhhh...just woken up!had a bad dream about u ...   \n",
              "1         0                           you can never do nothing   \n",
              "2         0  now u sound like manky scouse boy steve,like! ...   \n",
              "3         0  mum say we wan to go then go... then she can s...   \n",
              "4         0  never y lei... i v lazy... got wat? dat day ü ...   \n",
              "...     ...                                                ...   \n",
              "4174      0  just woke up. yeesh its late. but i didn't fal...   \n",
              "4175      0  what do u reckon as need 2 arrange transport i...   \n",
              "4176      1  free entry into our £250 weekly competition ju...   \n",
              "4177      1  -pls stop bootydelious (32/f) is inviting you ...   \n",
              "4178      0  tell my  bad character which u dnt lik in me. ...   \n",
              "\n",
              "                                                  no_sw  \\\n",
              "0     ahhhh...just woken up!had bad dream u tho,so d...   \n",
              "1                                         never nothing   \n",
              "2     u sound like manky scouse boy steve,like! trav...   \n",
              "3     mum say wan go go... shun bian watch da glass ...   \n",
              "4     never lei... v lazy... got wat? dat day ü send...   \n",
              "...                                                 ...   \n",
              "4174  woke up. yeesh late. fall asleep til &lt;#&gt; :/   \n",
              "4175  u reckon need 2 arrange transport u can't it, ...   \n",
              "4176  free entry £250 weekly competition text word w...   \n",
              "4177  -pls stop bootydelious (32/f) inviting friend....   \n",
              "4178  tell bad character u dnt lik me. i'll try chan...   \n",
              "\n",
              "                                               no_punct  \\\n",
              "0     ahhhh   just woken up had bad dream u tho so d...   \n",
              "1                                         never nothing   \n",
              "2     u sound like manky scouse boy steve like  trav...   \n",
              "3     mum say wan go go    shun bian watch da glass ...   \n",
              "4     never lei    v lazy    got wat  dat day ü send...   \n",
              "...                                                 ...   \n",
              "4174  woke up  yeesh late  fall asleep til  lt   gt       \n",
              "4175  u reckon need 2 arrange transport u can t it  ...   \n",
              "4176  free entry £250 weekly competition text word w...   \n",
              "4177   pls stop bootydelious  32 f  inviting friend ...   \n",
              "4178  tell bad character u dnt lik me  i ll try chan...   \n",
              "\n",
              "                                             lemmatized  \n",
              "0     ahhhh just woken up had bad dream u tho so don...  \n",
              "1                                         never nothing  \n",
              "2     u sound like manky scouse boy steve like trave...  \n",
              "3     mum say wan go go shun bian watch da glass exh...  \n",
              "4     never lei v lazy got wat dat day ü send da url...  \n",
              "...                                                 ...  \n",
              "4174           woke up yeesh late fall asleep til lt gt  \n",
              "4175  u reckon need 2 arrange transport u can t it t...  \n",
              "4176  free entry £250 weekly competition text word w...  \n",
              "4177  pls stop bootydelious 32 f inviting friend rep...  \n",
              "4178  tell bad character u dnt lik me i ll try chang...  \n",
              "\n",
              "[4179 rows x 5 columns]"
            ],
            "text/html": [
              "\n",
              "  <div id=\"df-b16219fc-96df-4f10-a349-3815c54e82ab\">\n",
              "    <div class=\"colab-df-container\">\n",
              "      <div>\n",
              "<style scoped>\n",
              "    .dataframe tbody tr th:only-of-type {\n",
              "        vertical-align: middle;\n",
              "    }\n",
              "\n",
              "    .dataframe tbody tr th {\n",
              "        vertical-align: top;\n",
              "    }\n",
              "\n",
              "    .dataframe thead th {\n",
              "        text-align: right;\n",
              "    }\n",
              "</style>\n",
              "<table border=\"1\" class=\"dataframe\">\n",
              "  <thead>\n",
              "    <tr style=\"text-align: right;\">\n",
              "      <th></th>\n",
              "      <th>label</th>\n",
              "      <th>inputs</th>\n",
              "      <th>no_sw</th>\n",
              "      <th>no_punct</th>\n",
              "      <th>lemmatized</th>\n",
              "    </tr>\n",
              "  </thead>\n",
              "  <tbody>\n",
              "    <tr>\n",
              "      <th>0</th>\n",
              "      <td>0</td>\n",
              "      <td>ahhhh...just woken up!had a bad dream about u ...</td>\n",
              "      <td>ahhhh...just woken up!had bad dream u tho,so d...</td>\n",
              "      <td>ahhhh   just woken up had bad dream u tho so d...</td>\n",
              "      <td>ahhhh just woken up had bad dream u tho so don...</td>\n",
              "    </tr>\n",
              "    <tr>\n",
              "      <th>1</th>\n",
              "      <td>0</td>\n",
              "      <td>you can never do nothing</td>\n",
              "      <td>never nothing</td>\n",
              "      <td>never nothing</td>\n",
              "      <td>never nothing</td>\n",
              "    </tr>\n",
              "    <tr>\n",
              "      <th>2</th>\n",
              "      <td>0</td>\n",
              "      <td>now u sound like manky scouse boy steve,like! ...</td>\n",
              "      <td>u sound like manky scouse boy steve,like! trav...</td>\n",
              "      <td>u sound like manky scouse boy steve like  trav...</td>\n",
              "      <td>u sound like manky scouse boy steve like trave...</td>\n",
              "    </tr>\n",
              "    <tr>\n",
              "      <th>3</th>\n",
              "      <td>0</td>\n",
              "      <td>mum say we wan to go then go... then she can s...</td>\n",
              "      <td>mum say wan go go... shun bian watch da glass ...</td>\n",
              "      <td>mum say wan go go    shun bian watch da glass ...</td>\n",
              "      <td>mum say wan go go shun bian watch da glass exh...</td>\n",
              "    </tr>\n",
              "    <tr>\n",
              "      <th>4</th>\n",
              "      <td>0</td>\n",
              "      <td>never y lei... i v lazy... got wat? dat day ü ...</td>\n",
              "      <td>never lei... v lazy... got wat? dat day ü send...</td>\n",
              "      <td>never lei    v lazy    got wat  dat day ü send...</td>\n",
              "      <td>never lei v lazy got wat dat day ü send da url...</td>\n",
              "    </tr>\n",
              "    <tr>\n",
              "      <th>...</th>\n",
              "      <td>...</td>\n",
              "      <td>...</td>\n",
              "      <td>...</td>\n",
              "      <td>...</td>\n",
              "      <td>...</td>\n",
              "    </tr>\n",
              "    <tr>\n",
              "      <th>4174</th>\n",
              "      <td>0</td>\n",
              "      <td>just woke up. yeesh its late. but i didn't fal...</td>\n",
              "      <td>woke up. yeesh late. fall asleep til &amp;lt;#&amp;gt; :/</td>\n",
              "      <td>woke up  yeesh late  fall asleep til  lt   gt</td>\n",
              "      <td>woke up yeesh late fall asleep til lt gt</td>\n",
              "    </tr>\n",
              "    <tr>\n",
              "      <th>4175</th>\n",
              "      <td>0</td>\n",
              "      <td>what do u reckon as need 2 arrange transport i...</td>\n",
              "      <td>u reckon need 2 arrange transport u can't it, ...</td>\n",
              "      <td>u reckon need 2 arrange transport u can t it  ...</td>\n",
              "      <td>u reckon need 2 arrange transport u can t it t...</td>\n",
              "    </tr>\n",
              "    <tr>\n",
              "      <th>4176</th>\n",
              "      <td>1</td>\n",
              "      <td>free entry into our £250 weekly competition ju...</td>\n",
              "      <td>free entry £250 weekly competition text word w...</td>\n",
              "      <td>free entry £250 weekly competition text word w...</td>\n",
              "      <td>free entry £250 weekly competition text word w...</td>\n",
              "    </tr>\n",
              "    <tr>\n",
              "      <th>4177</th>\n",
              "      <td>1</td>\n",
              "      <td>-pls stop bootydelious (32/f) is inviting you ...</td>\n",
              "      <td>-pls stop bootydelious (32/f) inviting friend....</td>\n",
              "      <td>pls stop bootydelious  32 f  inviting friend ...</td>\n",
              "      <td>pls stop bootydelious 32 f inviting friend rep...</td>\n",
              "    </tr>\n",
              "    <tr>\n",
              "      <th>4178</th>\n",
              "      <td>0</td>\n",
              "      <td>tell my  bad character which u dnt lik in me. ...</td>\n",
              "      <td>tell bad character u dnt lik me. i'll try chan...</td>\n",
              "      <td>tell bad character u dnt lik me  i ll try chan...</td>\n",
              "      <td>tell bad character u dnt lik me i ll try chang...</td>\n",
              "    </tr>\n",
              "  </tbody>\n",
              "</table>\n",
              "<p>4179 rows × 5 columns</p>\n",
              "</div>\n",
              "      <button class=\"colab-df-convert\" onclick=\"convertToInteractive('df-b16219fc-96df-4f10-a349-3815c54e82ab')\"\n",
              "              title=\"Convert this dataframe to an interactive table.\"\n",
              "              style=\"display:none;\">\n",
              "        \n",
              "  <svg xmlns=\"http://www.w3.org/2000/svg\" height=\"24px\"viewBox=\"0 0 24 24\"\n",
              "       width=\"24px\">\n",
              "    <path d=\"M0 0h24v24H0V0z\" fill=\"none\"/>\n",
              "    <path d=\"M18.56 5.44l.94 2.06.94-2.06 2.06-.94-2.06-.94-.94-2.06-.94 2.06-2.06.94zm-11 1L8.5 8.5l.94-2.06 2.06-.94-2.06-.94L8.5 2.5l-.94 2.06-2.06.94zm10 10l.94 2.06.94-2.06 2.06-.94-2.06-.94-.94-2.06-.94 2.06-2.06.94z\"/><path d=\"M17.41 7.96l-1.37-1.37c-.4-.4-.92-.59-1.43-.59-.52 0-1.04.2-1.43.59L10.3 9.45l-7.72 7.72c-.78.78-.78 2.05 0 2.83L4 21.41c.39.39.9.59 1.41.59.51 0 1.02-.2 1.41-.59l7.78-7.78 2.81-2.81c.8-.78.8-2.07 0-2.86zM5.41 20L4 18.59l7.72-7.72 1.47 1.35L5.41 20z\"/>\n",
              "  </svg>\n",
              "      </button>\n",
              "      \n",
              "  <style>\n",
              "    .colab-df-container {\n",
              "      display:flex;\n",
              "      flex-wrap:wrap;\n",
              "      gap: 12px;\n",
              "    }\n",
              "\n",
              "    .colab-df-convert {\n",
              "      background-color: #E8F0FE;\n",
              "      border: none;\n",
              "      border-radius: 50%;\n",
              "      cursor: pointer;\n",
              "      display: none;\n",
              "      fill: #1967D2;\n",
              "      height: 32px;\n",
              "      padding: 0 0 0 0;\n",
              "      width: 32px;\n",
              "    }\n",
              "\n",
              "    .colab-df-convert:hover {\n",
              "      background-color: #E2EBFA;\n",
              "      box-shadow: 0px 1px 2px rgba(60, 64, 67, 0.3), 0px 1px 3px 1px rgba(60, 64, 67, 0.15);\n",
              "      fill: #174EA6;\n",
              "    }\n",
              "\n",
              "    [theme=dark] .colab-df-convert {\n",
              "      background-color: #3B4455;\n",
              "      fill: #D2E3FC;\n",
              "    }\n",
              "\n",
              "    [theme=dark] .colab-df-convert:hover {\n",
              "      background-color: #434B5C;\n",
              "      box-shadow: 0px 1px 3px 1px rgba(0, 0, 0, 0.15);\n",
              "      filter: drop-shadow(0px 1px 2px rgba(0, 0, 0, 0.3));\n",
              "      fill: #FFFFFF;\n",
              "    }\n",
              "  </style>\n",
              "\n",
              "      <script>\n",
              "        const buttonEl =\n",
              "          document.querySelector('#df-b16219fc-96df-4f10-a349-3815c54e82ab button.colab-df-convert');\n",
              "        buttonEl.style.display =\n",
              "          google.colab.kernel.accessAllowed ? 'block' : 'none';\n",
              "\n",
              "        async function convertToInteractive(key) {\n",
              "          const element = document.querySelector('#df-b16219fc-96df-4f10-a349-3815c54e82ab');\n",
              "          const dataTable =\n",
              "            await google.colab.kernel.invokeFunction('convertToInteractive',\n",
              "                                                     [key], {});\n",
              "          if (!dataTable) return;\n",
              "\n",
              "          const docLinkHtml = 'Like what you see? Visit the ' +\n",
              "            '<a target=\"_blank\" href=https://colab.research.google.com/notebooks/data_table.ipynb>data table notebook</a>'\n",
              "            + ' to learn more about interactive tables.';\n",
              "          element.innerHTML = '';\n",
              "          dataTable['output_type'] = 'display_data';\n",
              "          await google.colab.output.renderOutput(dataTable, element);\n",
              "          const docLink = document.createElement('div');\n",
              "          docLink.innerHTML = docLinkHtml;\n",
              "          element.appendChild(docLink);\n",
              "        }\n",
              "      </script>\n",
              "    </div>\n",
              "  </div>\n",
              "  "
            ]
          },
          "metadata": {},
          "execution_count": 9
        }
      ]
    },
    {
      "cell_type": "code",
      "source": [
        "max_word = 1000\n",
        "maxlen = 500\n"
      ],
      "metadata": {
        "id": "bAfINH-Cnsh_"
      },
      "execution_count": 10,
      "outputs": []
    },
    {
      "cell_type": "markdown",
      "source": [
        "# Represent Words As Numbers"
      ],
      "metadata": {
        "id": "aHohwMLcCwTj"
      }
    },
    {
      "cell_type": "code",
      "source": [
        "from tensorflow.keras.preprocessing.text import Tokenizer\n",
        "from tensorflow.keras.preprocessing import sequence\n",
        "\n",
        "tokenizer = Tokenizer(num_words=max_word)\n",
        "tokenizer.fit_on_texts(train_data.lemmatized)\n",
        "\n",
        "word_index = tokenizer.word_index\n",
        "\n",
        "#sequencing\n",
        "vectors = tokenizer.texts_to_sequences(train_data.lemmatized)\n",
        "pad_vectors = sequence.pad_sequences(vectors, maxlen)\n"
      ],
      "metadata": {
        "id": "CWDFb2dXmegW"
      },
      "execution_count": 11,
      "outputs": []
    },
    {
      "cell_type": "code",
      "source": [
        "print(train_data.lemmatized.values[0])\n",
        "print(vectors[0])\n",
        "print(pad_vectors[0])\n"
      ],
      "metadata": {
        "colab": {
          "base_uri": "https://localhost:8080/"
        },
        "id": "UstrSgaRp1bI",
        "outputId": "35ec9475-228e-4e44-bfb5-33ec54b730d9"
      },
      "execution_count": 12,
      "outputs": [
        {
          "output_type": "stream",
          "name": "stdout",
          "text": [
            "ahhhh just woken up had bad dream u tho so dont like u right didnt know anything comedy night guess im it\n",
            "[877, 214, 338, 246, 1, 628, 255, 50, 19, 1, 101, 392, 16, 116, 62, 247, 97, 29]\n",
            "[  0   0   0   0   0   0   0   0   0   0   0   0   0   0   0   0   0   0\n",
            "   0   0   0   0   0   0   0   0   0   0   0   0   0   0   0   0   0   0\n",
            "   0   0   0   0   0   0   0   0   0   0   0   0   0   0   0   0   0   0\n",
            "   0   0   0   0   0   0   0   0   0   0   0   0   0   0   0   0   0   0\n",
            "   0   0   0   0   0   0   0   0   0   0   0   0   0   0   0   0   0   0\n",
            "   0   0   0   0   0   0   0   0   0   0   0   0   0   0   0   0   0   0\n",
            "   0   0   0   0   0   0   0   0   0   0   0   0   0   0   0   0   0   0\n",
            "   0   0   0   0   0   0   0   0   0   0   0   0   0   0   0   0   0   0\n",
            "   0   0   0   0   0   0   0   0   0   0   0   0   0   0   0   0   0   0\n",
            "   0   0   0   0   0   0   0   0   0   0   0   0   0   0   0   0   0   0\n",
            "   0   0   0   0   0   0   0   0   0   0   0   0   0   0   0   0   0   0\n",
            "   0   0   0   0   0   0   0   0   0   0   0   0   0   0   0   0   0   0\n",
            "   0   0   0   0   0   0   0   0   0   0   0   0   0   0   0   0   0   0\n",
            "   0   0   0   0   0   0   0   0   0   0   0   0   0   0   0   0   0   0\n",
            "   0   0   0   0   0   0   0   0   0   0   0   0   0   0   0   0   0   0\n",
            "   0   0   0   0   0   0   0   0   0   0   0   0   0   0   0   0   0   0\n",
            "   0   0   0   0   0   0   0   0   0   0   0   0   0   0   0   0   0   0\n",
            "   0   0   0   0   0   0   0   0   0   0   0   0   0   0   0   0   0   0\n",
            "   0   0   0   0   0   0   0   0   0   0   0   0   0   0   0   0   0   0\n",
            "   0   0   0   0   0   0   0   0   0   0   0   0   0   0   0   0   0   0\n",
            "   0   0   0   0   0   0   0   0   0   0   0   0   0   0   0   0   0   0\n",
            "   0   0   0   0   0   0   0   0   0   0   0   0   0   0   0   0   0   0\n",
            "   0   0   0   0   0   0   0   0   0   0   0   0   0   0   0   0   0   0\n",
            "   0   0   0   0   0   0   0   0   0   0   0   0   0   0   0   0   0   0\n",
            "   0   0   0   0   0   0   0   0   0   0   0   0   0   0   0   0   0   0\n",
            "   0   0   0   0   0   0   0   0   0   0   0   0   0   0   0   0   0   0\n",
            "   0   0   0   0   0   0   0   0   0   0   0   0   0   0 877 214 338 246\n",
            "   1 628 255  50  19   1 101 392  16 116  62 247  97  29]\n"
          ]
        }
      ]
    },
    {
      "cell_type": "markdown",
      "source": [
        "# Build Model Construction"
      ],
      "metadata": {
        "id": "MnuTs1tGC-R9"
      }
    },
    {
      "cell_type": "code",
      "source": [
        "from keras import layers\n",
        "\n",
        "inputs = tf.keras.layers.Input(shape=[maxlen])\n",
        "prog = tf.keras.layers.Embedding(max_word, 32, input_length=maxlen)(inputs)\n",
        "prog = tf.keras.layers.LSTM(64)(prog)\n",
        "\n",
        "prog = tf.keras.layers.Dense(128, activation='relu')(prog)\n",
        "prog = tf.keras.layers.Dropout(0.2)(prog)\n",
        "prog = tf.keras.layers.Dense(1, activation='relu')(prog)\n",
        "\n",
        "model = tf.keras.models.Model(inputs=inputs, outputs=prog)\n",
        "model.compile(\n",
        "    loss='binary_crossentropy',\n",
        "    optimizer=keras.optimizers.RMSprop(learning_rate=0.001),\n",
        "    metrics=['accuracy']\n",
        ")\n",
        "model.summary()"
      ],
      "metadata": {
        "colab": {
          "base_uri": "https://localhost:8080/"
        },
        "id": "gxy6FqiBqJN_",
        "outputId": "cee93525-7ff7-4ba3-e052-8267d636792b"
      },
      "execution_count": 16,
      "outputs": [
        {
          "output_type": "stream",
          "name": "stdout",
          "text": [
            "Model: \"model_1\"\n",
            "_________________________________________________________________\n",
            " Layer (type)                Output Shape              Param #   \n",
            "=================================================================\n",
            " input_2 (InputLayer)        [(None, 500)]             0         \n",
            "                                                                 \n",
            " embedding_1 (Embedding)     (None, 500, 32)           32000     \n",
            "                                                                 \n",
            " lstm_1 (LSTM)               (None, 64)                24832     \n",
            "                                                                 \n",
            " dense_2 (Dense)             (None, 128)               8320      \n",
            "                                                                 \n",
            " dropout_1 (Dropout)         (None, 128)               0         \n",
            "                                                                 \n",
            " dense_3 (Dense)             (None, 1)                 129       \n",
            "                                                                 \n",
            "=================================================================\n",
            "Total params: 65,281\n",
            "Trainable params: 65,281\n",
            "Non-trainable params: 0\n",
            "_________________________________________________________________\n"
          ]
        }
      ]
    },
    {
      "cell_type": "markdown",
      "source": [
        "# Set Callbacks"
      ],
      "metadata": {
        "id": "LlFQFhKnDE6e"
      }
    },
    {
      "cell_type": "code",
      "source": [
        "# model checkpoint callback\n",
        "set_cp = tf.keras.callbacks.ModelCheckpoint(filepath='/content/best_model.h5',\n",
        "                                            monitor='accuracy',\n",
        "                                            save_best_only=True,\n",
        "                                            verbose=1)\n",
        "\n",
        "# reduce LR callback\n",
        "set_lr = tf.keras.callbacks.ReduceLROnPlateau(monitor='val_accuracy',\n",
        "                                              min_lr=0.0001,\n",
        "                                              patience=6,\n",
        "                                              verbose=1)\n",
        "\n",
        "# custom callback to stop when the model reaches the expected accuracy\n",
        "class Specific_Stopper(tf.keras.callbacks.Callback):\n",
        "  def __init__(self, exp_acc, exp_val):\n",
        "    super(Specific_Stopper).__init__()\n",
        "    self.exp_acc = exp_acc\n",
        "    self.exp_val = exp_val\n",
        "\n",
        "  def on_epoch_end(self, epoch, logs=None):\n",
        "    acc = logs.get('accuracy')\n",
        "    val = logs.get('val_accuracy')\n",
        "    if (acc >= self.exp_acc) and (val >= self.exp_val):\n",
        "      print('Model sudah sampai akurasi yang diharapkan. \\n akurasi : {}, akurasi validasi : {}. Proses learning dihentikan'.format(round(acc, 3), val))\n",
        "      self.model.stop_training = True\n",
        "\n",
        "set_stop = Specific_Stopper(0.95, 0.95)\n"
      ],
      "metadata": {
        "id": "yL_v2P8-uxQo"
      },
      "execution_count": 14,
      "outputs": []
    },
    {
      "cell_type": "markdown",
      "source": [
        "# Train Model"
      ],
      "metadata": {
        "id": "zrBwbHykDI_J"
      }
    },
    {
      "cell_type": "code",
      "source": [
        "history = model.fit(x=pad_vectors,\n",
        "                   y=train_data.label.values,\n",
        "                   epochs = 500,\n",
        "                   callbacks=[set_cp, set_lr, set_stop],\n",
        "                   validation_split=0.2)"
      ],
      "metadata": {
        "colab": {
          "base_uri": "https://localhost:8080/"
        },
        "id": "6iTB7R7vuOrx",
        "outputId": "62675788-1bf8-4e12-bf58-1991204d372b"
      },
      "execution_count": 17,
      "outputs": [
        {
          "output_type": "stream",
          "name": "stdout",
          "text": [
            "Epoch 1/500\n",
            "105/105 [==============================] - ETA: 0s - loss: 0.2239 - accuracy: 0.9330\n",
            "Epoch 1: accuracy improved from 0.86719 to 0.93299, saving model to /content/best_model.h5\n",
            "105/105 [==============================] - 30s 265ms/step - loss: 0.2239 - accuracy: 0.9330 - val_loss: 0.1509 - val_accuracy: 0.9809 - lr: 0.0010\n",
            "Epoch 2/500\n",
            "105/105 [==============================] - ETA: 0s - loss: 0.0960 - accuracy: 0.9850\n",
            "Epoch 2: accuracy improved from 0.93299 to 0.98504, saving model to /content/best_model.h5\n",
            "Model sudah sampai akurasi yang diharapkan. \n",
            " akurasi : 0.985, akurasi validasi : 0.9868420958518982. Proses learning dihentikan\n",
            "105/105 [==============================] - 27s 261ms/step - loss: 0.0960 - accuracy: 0.9850 - val_loss: 0.1314 - val_accuracy: 0.9868 - lr: 0.0010\n"
          ]
        }
      ]
    },
    {
      "cell_type": "markdown",
      "source": [
        "# Model Evaluation"
      ],
      "metadata": {
        "id": "MV9yXygCxTMZ"
      }
    },
    {
      "cell_type": "code",
      "source": [
        "#prepare data for evaluation\n",
        "\n",
        "test_data['inputs'] = test_data['inputs'].map(remove_sw)\n",
        "test_data['inputs'] = test_data['inputs'].map(remove_punct)\n",
        "test_data['inputs'] = test_data['inputs'].map(lemmatizing)\n",
        "\n",
        "test_data"
      ],
      "metadata": {
        "colab": {
          "base_uri": "https://localhost:8080/",
          "height": 424
        },
        "id": "bGuCRbMixdiR",
        "outputId": "644a97ff-dfe0-4db4-e464-851317dbdce2"
      },
      "execution_count": 18,
      "outputs": [
        {
          "output_type": "execute_result",
          "data": {
            "text/plain": [
              "      label                                             inputs\n",
              "0         0                    hospital da return home evening\n",
              "1         0                               much textin bout you\n",
              "2         0  probably eat today think i m gonna pop weekend...\n",
              "3         0  don‘t give flying monkey wot think certainly d...\n",
              "4         0                                             seeing\n",
              "...     ...                                                ...\n",
              "1387      0  true dear i sat pray evening felt so so sm d time\n",
              "1388      0                                        shower baby\n",
              "1389      0  yuou working getting pc mom s find spot would ...\n",
              "1390      1  ur cash balance currently 500 pound maximize u...\n",
              "1391      1  heard u4 while call 4 rude chat private line 0...\n",
              "\n",
              "[1392 rows x 2 columns]"
            ],
            "text/html": [
              "\n",
              "  <div id=\"df-10c186fe-d881-4e54-a20f-02c52f2c6c25\">\n",
              "    <div class=\"colab-df-container\">\n",
              "      <div>\n",
              "<style scoped>\n",
              "    .dataframe tbody tr th:only-of-type {\n",
              "        vertical-align: middle;\n",
              "    }\n",
              "\n",
              "    .dataframe tbody tr th {\n",
              "        vertical-align: top;\n",
              "    }\n",
              "\n",
              "    .dataframe thead th {\n",
              "        text-align: right;\n",
              "    }\n",
              "</style>\n",
              "<table border=\"1\" class=\"dataframe\">\n",
              "  <thead>\n",
              "    <tr style=\"text-align: right;\">\n",
              "      <th></th>\n",
              "      <th>label</th>\n",
              "      <th>inputs</th>\n",
              "    </tr>\n",
              "  </thead>\n",
              "  <tbody>\n",
              "    <tr>\n",
              "      <th>0</th>\n",
              "      <td>0</td>\n",
              "      <td>hospital da return home evening</td>\n",
              "    </tr>\n",
              "    <tr>\n",
              "      <th>1</th>\n",
              "      <td>0</td>\n",
              "      <td>much textin bout you</td>\n",
              "    </tr>\n",
              "    <tr>\n",
              "      <th>2</th>\n",
              "      <td>0</td>\n",
              "      <td>probably eat today think i m gonna pop weekend...</td>\n",
              "    </tr>\n",
              "    <tr>\n",
              "      <th>3</th>\n",
              "      <td>0</td>\n",
              "      <td>don‘t give flying monkey wot think certainly d...</td>\n",
              "    </tr>\n",
              "    <tr>\n",
              "      <th>4</th>\n",
              "      <td>0</td>\n",
              "      <td>seeing</td>\n",
              "    </tr>\n",
              "    <tr>\n",
              "      <th>...</th>\n",
              "      <td>...</td>\n",
              "      <td>...</td>\n",
              "    </tr>\n",
              "    <tr>\n",
              "      <th>1387</th>\n",
              "      <td>0</td>\n",
              "      <td>true dear i sat pray evening felt so so sm d time</td>\n",
              "    </tr>\n",
              "    <tr>\n",
              "      <th>1388</th>\n",
              "      <td>0</td>\n",
              "      <td>shower baby</td>\n",
              "    </tr>\n",
              "    <tr>\n",
              "      <th>1389</th>\n",
              "      <td>0</td>\n",
              "      <td>yuou working getting pc mom s find spot would ...</td>\n",
              "    </tr>\n",
              "    <tr>\n",
              "      <th>1390</th>\n",
              "      <td>1</td>\n",
              "      <td>ur cash balance currently 500 pound maximize u...</td>\n",
              "    </tr>\n",
              "    <tr>\n",
              "      <th>1391</th>\n",
              "      <td>1</td>\n",
              "      <td>heard u4 while call 4 rude chat private line 0...</td>\n",
              "    </tr>\n",
              "  </tbody>\n",
              "</table>\n",
              "<p>1392 rows × 2 columns</p>\n",
              "</div>\n",
              "      <button class=\"colab-df-convert\" onclick=\"convertToInteractive('df-10c186fe-d881-4e54-a20f-02c52f2c6c25')\"\n",
              "              title=\"Convert this dataframe to an interactive table.\"\n",
              "              style=\"display:none;\">\n",
              "        \n",
              "  <svg xmlns=\"http://www.w3.org/2000/svg\" height=\"24px\"viewBox=\"0 0 24 24\"\n",
              "       width=\"24px\">\n",
              "    <path d=\"M0 0h24v24H0V0z\" fill=\"none\"/>\n",
              "    <path d=\"M18.56 5.44l.94 2.06.94-2.06 2.06-.94-2.06-.94-.94-2.06-.94 2.06-2.06.94zm-11 1L8.5 8.5l.94-2.06 2.06-.94-2.06-.94L8.5 2.5l-.94 2.06-2.06.94zm10 10l.94 2.06.94-2.06 2.06-.94-2.06-.94-.94-2.06-.94 2.06-2.06.94z\"/><path d=\"M17.41 7.96l-1.37-1.37c-.4-.4-.92-.59-1.43-.59-.52 0-1.04.2-1.43.59L10.3 9.45l-7.72 7.72c-.78.78-.78 2.05 0 2.83L4 21.41c.39.39.9.59 1.41.59.51 0 1.02-.2 1.41-.59l7.78-7.78 2.81-2.81c.8-.78.8-2.07 0-2.86zM5.41 20L4 18.59l7.72-7.72 1.47 1.35L5.41 20z\"/>\n",
              "  </svg>\n",
              "      </button>\n",
              "      \n",
              "  <style>\n",
              "    .colab-df-container {\n",
              "      display:flex;\n",
              "      flex-wrap:wrap;\n",
              "      gap: 12px;\n",
              "    }\n",
              "\n",
              "    .colab-df-convert {\n",
              "      background-color: #E8F0FE;\n",
              "      border: none;\n",
              "      border-radius: 50%;\n",
              "      cursor: pointer;\n",
              "      display: none;\n",
              "      fill: #1967D2;\n",
              "      height: 32px;\n",
              "      padding: 0 0 0 0;\n",
              "      width: 32px;\n",
              "    }\n",
              "\n",
              "    .colab-df-convert:hover {\n",
              "      background-color: #E2EBFA;\n",
              "      box-shadow: 0px 1px 2px rgba(60, 64, 67, 0.3), 0px 1px 3px 1px rgba(60, 64, 67, 0.15);\n",
              "      fill: #174EA6;\n",
              "    }\n",
              "\n",
              "    [theme=dark] .colab-df-convert {\n",
              "      background-color: #3B4455;\n",
              "      fill: #D2E3FC;\n",
              "    }\n",
              "\n",
              "    [theme=dark] .colab-df-convert:hover {\n",
              "      background-color: #434B5C;\n",
              "      box-shadow: 0px 1px 3px 1px rgba(0, 0, 0, 0.15);\n",
              "      filter: drop-shadow(0px 1px 2px rgba(0, 0, 0, 0.3));\n",
              "      fill: #FFFFFF;\n",
              "    }\n",
              "  </style>\n",
              "\n",
              "      <script>\n",
              "        const buttonEl =\n",
              "          document.querySelector('#df-10c186fe-d881-4e54-a20f-02c52f2c6c25 button.colab-df-convert');\n",
              "        buttonEl.style.display =\n",
              "          google.colab.kernel.accessAllowed ? 'block' : 'none';\n",
              "\n",
              "        async function convertToInteractive(key) {\n",
              "          const element = document.querySelector('#df-10c186fe-d881-4e54-a20f-02c52f2c6c25');\n",
              "          const dataTable =\n",
              "            await google.colab.kernel.invokeFunction('convertToInteractive',\n",
              "                                                     [key], {});\n",
              "          if (!dataTable) return;\n",
              "\n",
              "          const docLinkHtml = 'Like what you see? Visit the ' +\n",
              "            '<a target=\"_blank\" href=https://colab.research.google.com/notebooks/data_table.ipynb>data table notebook</a>'\n",
              "            + ' to learn more about interactive tables.';\n",
              "          element.innerHTML = '';\n",
              "          dataTable['output_type'] = 'display_data';\n",
              "          await google.colab.output.renderOutput(dataTable, element);\n",
              "          const docLink = document.createElement('div');\n",
              "          docLink.innerHTML = docLinkHtml;\n",
              "          element.appendChild(docLink);\n",
              "        }\n",
              "      </script>\n",
              "    </div>\n",
              "  </div>\n",
              "  "
            ]
          },
          "metadata": {},
          "execution_count": 18
        }
      ]
    },
    {
      "cell_type": "code",
      "source": [
        "val_sequences = tokenizer.texts_to_sequences(test_data.inputs.values)\n",
        "val_pad = sequence.pad_sequences(val_sequences, maxlen)\n",
        "\n",
        "val_pad"
      ],
      "metadata": {
        "colab": {
          "base_uri": "https://localhost:8080/"
        },
        "id": "U7CesG2PynAv",
        "outputId": "bc74e641-4981-4592-a507-94fc00842f0a"
      },
      "execution_count": 19,
      "outputs": [
        {
          "output_type": "execute_result",
          "data": {
            "text/plain": [
              "array([[  0,   0,   0, ..., 928,  45, 435],\n",
              "       [  0,   0,   0, ...,  68, 706,  24],\n",
              "       [  0,   0,   0, ...,   1, 112,  32],\n",
              "       ...,\n",
              "       [  0,   0,   0, ..., 132,  80,  30],\n",
              "       [  0,   0,   0, ..., 866, 867, 602],\n",
              "       [  0,   0,   0, ...,  28,  44, 291]], dtype=int32)"
            ]
          },
          "metadata": {},
          "execution_count": 19
        }
      ]
    },
    {
      "cell_type": "code",
      "source": [
        "model.evaluate(val_pad, test_data.label.values)\n"
      ],
      "metadata": {
        "colab": {
          "base_uri": "https://localhost:8080/"
        },
        "id": "A2yaH5fdyWiH",
        "outputId": "d9957e5c-9f17-4c34-b140-663d520624c8"
      },
      "execution_count": 20,
      "outputs": [
        {
          "output_type": "stream",
          "name": "stdout",
          "text": [
            "44/44 [==============================] - 3s 57ms/step - loss: 0.1119 - accuracy: 0.9828\n"
          ]
        },
        {
          "output_type": "execute_result",
          "data": {
            "text/plain": [
              "[0.11192721128463745, 0.982758641242981]"
            ]
          },
          "metadata": {},
          "execution_count": 20
        }
      ]
    },
    {
      "cell_type": "markdown",
      "source": [
        "# Monitor Model's Accuracy and Loss"
      ],
      "metadata": {
        "id": "nnzTePwzDNWj"
      }
    },
    {
      "cell_type": "code",
      "source": [
        "plt.plot(history.history['accuracy'], label='accuracy', color='r')\n",
        "plt.plot(history.history['val_accuracy'], label='val_acc', color='b')\n",
        "plt.ylabel('score')\n",
        "plt.title('model learning accuracy')\n",
        "plt.legend()\n"
      ],
      "metadata": {
        "colab": {
          "base_uri": "https://localhost:8080/",
          "height": 298
        },
        "id": "6f-s-hnGz2aB",
        "outputId": "70ec76df-bbc5-4b2d-e03a-1766b6086625"
      },
      "execution_count": 21,
      "outputs": [
        {
          "output_type": "execute_result",
          "data": {
            "text/plain": [
              "<matplotlib.legend.Legend at 0x7f155c785280>"
            ]
          },
          "metadata": {},
          "execution_count": 21
        },
        {
          "output_type": "display_data",
          "data": {
            "text/plain": [
              "<Figure size 432x288 with 1 Axes>"
            ],
            "image/png": "[encoded data removed]"
          },
          "metadata": {
            "needs_background": "light"
          }
        }
      ]
    },
    {
      "cell_type": "code",
      "source": [
        "plt.plot(history.history['loss'], label='loss', color='r')\n",
        "plt.plot(history.history['val_loss'], label='val_loss', color='b')\n",
        "plt.ylabel('score')\n",
        "plt.title('model learning loss')\n",
        "plt.legend()\n"
      ],
      "metadata": {
        "colab": {
          "base_uri": "https://localhost:8080/",
          "height": 298
        },
        "id": "xg8TE5LV0wt7",
        "outputId": "4c8ca1c9-0757-480a-8b76-ac12dcd3de6e"
      },
      "execution_count": 22,
      "outputs": [
        {
          "output_type": "execute_result",
          "data": {
            "text/plain": [
              "<matplotlib.legend.Legend at 0x7f155c790c70>"
            ]
          },
          "metadata": {},
          "execution_count": 22
        },
        {
          "output_type": "display_data",
          "data": {
            "text/plain": [
              "<Figure size 432x288 with 1 Axes>"
            ],
            "image/png": "[encoded data removed]"
          },
          "metadata": {
            "needs_background": "light"
          }
        }
      ]
    },
    {
      "cell_type": "markdown",
      "source": [
        "# Test Make Some Prediction"
      ],
      "metadata": {
        "id": "GJfPMuz1DYhV"
      }
    },
    {
      "cell_type": "code",
      "source": [
        "test_text = 'we see your account buy our shoes with 1000 dollars amount of transaction, type  1 to cancel this transaction'\n",
        "test_text = remove_sw(test_text)\n",
        "test_text = remove_punct(test_text)\n",
        "test_text = lemmatizing(test_text)\n",
        "test_text_seq = tokenizer.texts_to_sequences([test_text, test_text])\n",
        "test_text_seq_pad = sequence.pad_sequences(test_text_seq, maxlen)\n",
        "test_text_seq_pad[0].shape"
      ],
      "metadata": {
        "colab": {
          "base_uri": "https://localhost:8080/"
        },
        "id": "Dx832RBP3mTp",
        "outputId": "01450674-b7e3-4159-a65b-14962f6bab45"
      },
      "execution_count": 23,
      "outputs": [
        {
          "output_type": "execute_result",
          "data": {
            "text/plain": [
              "(500,)"
            ]
          },
          "metadata": {},
          "execution_count": 23
        }
      ]
    },
    {
      "cell_type": "code",
      "source": [
        "model.predict(test_text_seq_pad)\n"
      ],
      "metadata": {
        "colab": {
          "base_uri": "https://localhost:8080/"
        },
        "id": "KOlm8Mb-1YGv",
        "outputId": "68917974-5440-4955-c458-87f2e15ae4aa"
      },
      "execution_count": 24,
      "outputs": [
        {
          "output_type": "stream",
          "name": "stdout",
          "text": [
            "1/1 [==============================] - 0s 450ms/step\n"
          ]
        },
        {
          "output_type": "execute_result",
          "data": {
            "text/plain": [
              "array([[0.6972578],\n",
              "       [0.6972578]], dtype=float32)"
            ]
          },
          "metadata": {},
          "execution_count": 24
        }
      ]
    },
    {
      "cell_type": "code",
      "execution_count": 25,
      "metadata": {
        "id": "J9tD9yACG6M9",
        "colab": {
          "base_uri": "https://localhost:8080/"
        },
        "outputId": "7627d614-9bb8-4828-eef7-e26b996a38cc"
      },
      "outputs": [
        {
          "output_type": "stream",
          "name": "stdout",
          "text": [
            "1/1 [==============================] - 0s 44ms/step\n",
            "[0.0, 'ham']\n"
          ]
        }
      ],
      "source": [
        "# function to predict messages based on model\n",
        "# (should return list containing prediction and label, ex. [0.008318834938108921, 'ham'])\n",
        "def predict_message(pred_text):\n",
        "  #prepare for prediction\n",
        "  pred_text = remove_sw(pred_text)\n",
        "  pred_text = remove_punct(pred_text)\n",
        "  pred_text = lemmatizing(pred_text)\n",
        "  pred_text_seq = tokenizer.texts_to_sequences([pred_text, pred_text])\n",
        "  pred_text_seq_pad = sequence.pad_sequences(pred_text_seq, maxlen)\n",
        "\n",
        "  prediksi = model.predict(pred_text_seq_pad)\n",
        "  prediksi = prediksi[0][0]\n",
        "  \n",
        "  prediction = [prediksi]\n",
        "  if prediksi > 0.5:\n",
        "    prediction.append('spam')\n",
        "  else:\n",
        "    prediction.append('ham')\n",
        "\n",
        "\n",
        "  return (prediction)\n",
        "\n",
        "pred_text = \"wow, is your arm alright. that happened to me one time too\"\n",
        "prediction = predict_message(pred_text)\n",
        "print(prediction)"
      ]
    },
    {
      "cell_type": "code",
      "execution_count": 26,
      "metadata": {
        "id": "Dxotov85SjsC",
        "colab": {
          "base_uri": "https://localhost:8080/"
        },
        "outputId": "42843f17-395b-4f0c-9602-6a644f66c2e3"
      },
      "outputs": [
        {
          "output_type": "stream",
          "name": "stdout",
          "text": [
            "1/1 [==============================] - 0s 39ms/step\n",
            "1/1 [==============================] - 0s 38ms/step\n",
            "1/1 [==============================] - 0s 38ms/step\n",
            "1/1 [==============================] - 0s 37ms/step\n",
            "1/1 [==============================] - 0s 39ms/step\n",
            "1/1 [==============================] - 0s 38ms/step\n",
            "1/1 [==============================] - 0s 38ms/step\n",
            "You passed the challenge. Great job!\n"
          ]
        }
      ],
      "source": [
        "# Run this cell to test your function and model. Do not modify contents.\n",
        "def test_predictions():\n",
        "  test_messages = [\"how are you doing today\",\n",
        "                   \"sale today! to stop texts call 98912460324\",\n",
        "                   \"i dont want to go. can we try it a different day? available sat\",\n",
        "                   \"our new mobile video service is live. just install on your phone to start watching.\",\n",
        "                   \"you have won £1000 cash! call to claim your prize.\",\n",
        "                   \"i'll bring it tomorrow. don't forget the milk.\",\n",
        "                   \"wow, is your arm alright. that happened to me one time too\"\n",
        "                  ]\n",
        "\n",
        "  test_answers = [\"ham\", \"spam\", \"ham\", \"spam\", \"spam\", \"ham\", \"ham\"]\n",
        "  passed = True\n",
        "\n",
        "  for msg, ans in zip(test_messages, test_answers):\n",
        "    prediction = predict_message(msg)\n",
        "    if prediction[1] != ans:\n",
        "      passed = False\n",
        "\n",
        "  if passed:\n",
        "    print(\"You passed the challenge. Great job!\")\n",
        "  else:\n",
        "    print(\"You haven't passed yet. Keep trying.\")\n",
        "\n",
        "test_predictions()\n"
      ]
    }
  ],
  "metadata": {
    "colab": {
      "provenance": [],
      "include_colab_link": true
    },
    "kernelspec": {
      "display_name": "Python 3",
      "name": "python3"
    },
    "language_info": {
      "name": "python3"
    },
    "gpuClass": "standard"
  },
  "nbformat": 4,
  "nbformat_minor": 0
}
